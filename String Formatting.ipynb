{
 "cells": [
  {
   "cell_type": "markdown",
   "metadata": {},
   "source": [
    "# String Formatting"
   ]
  },
  {
   "cell_type": "markdown",
   "metadata": {},
   "source": [
    "Tutorial by **Amol Ambkar** (*Tech Blooded* )"
   ]
  },
  {
   "cell_type": "markdown",
   "metadata": {},
   "source": [
    "### format() method"
   ]
  },
  {
   "cell_type": "markdown",
   "metadata": {},
   "source": [
    "The format() method is the most flexible and useful method in formatting strings. \n",
    "\n",
    "The curly braces {} are used as the placeholder in the string and replaced by the format() method argument. "
   ]
  },
  {
   "cell_type": "code",
   "execution_count": 1,
   "metadata": {},
   "outputs": [
    {
     "name": "stdout",
     "output_type": "stream",
     "text": [
      "abhishek , aniket and amol are the best friends\n"
     ]
    }
   ],
   "source": [
    "# Using Curly braces\n",
    "\n",
    "print(\"{} , {} and {} are the best friends\".format(\"abhishek\",\"aniket\",\"amol\"))"
   ]
  },
  {
   "cell_type": "code",
   "execution_count": 2,
   "metadata": {},
   "outputs": [
    {
     "name": "stdout",
     "output_type": "stream",
     "text": [
      "amol , abhishek and aniket are the best friends\n"
     ]
    }
   ],
   "source": [
    "#Positional Argument  \n",
    "\n",
    "print(\"{2} , {0} and {1} are the best friends\".format(\"abhishek\",\"aniket\",\"amol\"))\n"
   ]
  },
  {
   "cell_type": "code",
   "execution_count": 6,
   "metadata": {},
   "outputs": [
    {
     "name": "stdout",
     "output_type": "stream",
     "text": [
      "abhishek , aniket and amol are the best friends\n"
     ]
    }
   ],
   "source": [
    "#Keyword Argument\n",
    "\n",
    "print(\"{a} , {b} and {c} are the best friends\".format(a = \"abhishek\",b = \"aniket\",c =\"amol\"))"
   ]
  },
  {
   "cell_type": "markdown",
   "metadata": {},
   "source": [
    "### Python String Formatting Using % Operator"
   ]
  },
  {
   "cell_type": "markdown",
   "metadata": {},
   "source": [
    "Format Specifiers\n",
    "\n",
    "integer - %d\n",
    "\n",
    "float - %f\n",
    "\n",
    "string - %s"
   ]
  },
  {
   "cell_type": "code",
   "execution_count": 7,
   "metadata": {},
   "outputs": [
    {
     "name": "stdout",
     "output_type": "stream",
     "text": [
      "integer is 20\n",
      " float is 22.700000\n",
      " string is Tech Blooded\n"
     ]
    }
   ],
   "source": [
    "a = 20\n",
    "b = 22.7\n",
    "c = \"Tech Blooded\"\n",
    "\n",
    "print(\"integer is %d\\n float is %f\\n string is %s\"%(a,b,c))"
   ]
  },
  {
   "cell_type": "markdown",
   "metadata": {},
   "source": [
    "# Thank You"
   ]
  }
 ],
 "metadata": {
  "kernelspec": {
   "display_name": "Python 3",
   "language": "python",
   "name": "python3"
  },
  "language_info": {
   "codemirror_mode": {
    "name": "ipython",
    "version": 3
   },
   "file_extension": ".py",
   "mimetype": "text/x-python",
   "name": "python",
   "nbconvert_exporter": "python",
   "pygments_lexer": "ipython3",
   "version": "3.8.3"
  }
 },
 "nbformat": 4,
 "nbformat_minor": 4
}
