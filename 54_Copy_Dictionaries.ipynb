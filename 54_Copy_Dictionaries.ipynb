{
 "cells": [
  {
   "cell_type": "markdown",
   "metadata": {},
   "source": [
    "# Copy Dictionaries"
   ]
  },
  {
   "cell_type": "markdown",
   "metadata": {},
   "source": [
    "Tutorial By **Tech Blooded**"
   ]
  },
  {
   "cell_type": "markdown",
   "metadata": {},
   "source": [
    "We cannot copy a dictionary simply by typing **dict2 = dict1**"
   ]
  },
  {
   "cell_type": "markdown",
   "metadata": {},
   "source": [
    "**because** : dict2 will only be a reference to dict1, and changes made in dict1 will **automatically** also be made in dict2."
   ]
  },
  {
   "cell_type": "code",
   "execution_count": 2,
   "metadata": {},
   "outputs": [],
   "source": [
    "dict1 = {\n",
    "    \"name\":\"Tech Blooded\",\n",
    "    \"Year\":2021\n",
    "}"
   ]
  },
  {
   "cell_type": "code",
   "execution_count": 3,
   "metadata": {},
   "outputs": [
    {
     "name": "stdout",
     "output_type": "stream",
     "text": [
      "{'name': 'Tech Blooded', 'Year': 2021}\n"
     ]
    }
   ],
   "source": [
    "dict2 = dict1\n",
    "print(dict2)"
   ]
  },
  {
   "cell_type": "code",
   "execution_count": 4,
   "metadata": {},
   "outputs": [
    {
     "name": "stdout",
     "output_type": "stream",
     "text": [
      "{'name': 'Tech Blooded', 'Year': 2021, 'type': 'Education'}\n",
      "{'name': 'Tech Blooded', 'Year': 2021, 'type': 'Education'}\n"
     ]
    }
   ],
   "source": [
    "dict1[\"type\"] = \"Education\"\n",
    "\n",
    "print(dict1)\n",
    "\n",
    "print(dict2)"
   ]
  },
  {
   "cell_type": "markdown",
   "metadata": {},
   "source": [
    "We can make a copy of a dictionary with the **copy()** method"
   ]
  },
  {
   "cell_type": "code",
   "execution_count": 5,
   "metadata": {},
   "outputs": [
    {
     "name": "stdout",
     "output_type": "stream",
     "text": [
      "{'name': 'Tech Blooded', 'Year': 2021, 'type': 'Education'}\n"
     ]
    }
   ],
   "source": [
    "dict3 = dict1.copy()\n",
    "print(dict3)"
   ]
  },
  {
   "cell_type": "code",
   "execution_count": 6,
   "metadata": {},
   "outputs": [
    {
     "name": "stdout",
     "output_type": "stream",
     "text": [
      "{'name': 'Tech Blooded', 'Year': 2021, 'type': 'Education', 'channel': 'Tech Blooded'}\n",
      "{'name': 'Tech Blooded', 'Year': 2021, 'type': 'Education'}\n"
     ]
    }
   ],
   "source": [
    "dict1[\"channel\"] = \"Tech Blooded\"\n",
    "\n",
    "print(dict1)\n",
    "\n",
    "print(dict3)"
   ]
  },
  {
   "cell_type": "markdown",
   "metadata": {},
   "source": [
    "Another way to make a copy is to use the built-in function **dict()**"
   ]
  },
  {
   "cell_type": "code",
   "execution_count": 7,
   "metadata": {},
   "outputs": [
    {
     "name": "stdout",
     "output_type": "stream",
     "text": [
      "{'name': 'Tech Blooded', 'Year': 2021, 'type': 'Education', 'channel': 'Tech Blooded'}\n"
     ]
    }
   ],
   "source": [
    "dict2 = dict(dict1)\n",
    "\n",
    "print(dict2)"
   ]
  },
  {
   "cell_type": "code",
   "execution_count": 8,
   "metadata": {},
   "outputs": [
    {
     "name": "stdout",
     "output_type": "stream",
     "text": [
      "{'name': 'Tech Blooded', 'Year': 2021, 'type': 'Education'}\n",
      "{'name': 'Tech Blooded', 'Year': 2021, 'type': 'Education', 'channel': 'Tech Blooded'}\n"
     ]
    }
   ],
   "source": [
    "del dict1[\"channel\"]\n",
    "\n",
    "print(dict1)\n",
    "\n",
    "print(dict2)"
   ]
  },
  {
   "cell_type": "markdown",
   "metadata": {},
   "source": [
    "# Thank You"
   ]
  }
 ],
 "metadata": {
  "kernelspec": {
   "display_name": "Python 3",
   "language": "python",
   "name": "python3"
  },
  "language_info": {
   "codemirror_mode": {
    "name": "ipython",
    "version": 3
   },
   "file_extension": ".py",
   "mimetype": "text/x-python",
   "name": "python",
   "nbconvert_exporter": "python",
   "pygments_lexer": "ipython3",
   "version": "3.8.3"
  }
 },
 "nbformat": 4,
 "nbformat_minor": 4
}
